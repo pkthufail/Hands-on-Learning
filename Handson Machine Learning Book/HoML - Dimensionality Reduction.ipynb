{
 "cells": [
  {
   "cell_type": "markdown",
   "id": "3c9c1b4c",
   "metadata": {},
   "source": [
    "# Dimensionality Reduction"
   ]
  },
  {
   "cell_type": "code",
   "execution_count": 4,
   "id": "d8a25807",
   "metadata": {},
   "outputs": [],
   "source": [
    "import numpy as np"
   ]
  },
  {
   "cell_type": "markdown",
   "id": "e81ed651",
   "metadata": {},
   "source": [
    "1. Projection\n",
    "2. Manifold Learning\n",
    "\n",
    "* PCA\n",
    "* Kernel PCA\n",
    "* LLE"
   ]
  },
  {
   "cell_type": "markdown",
   "id": "43eba510",
   "metadata": {},
   "source": [
    "## PCA"
   ]
  },
  {
   "cell_type": "markdown",
   "id": "b914a1ac",
   "metadata": {},
   "source": [
    "Random 3D dataset"
   ]
  },
  {
   "cell_type": "code",
   "execution_count": 5,
   "id": "eb46b0e8",
   "metadata": {},
   "outputs": [],
   "source": [
    "np.random.seed(4)\n",
    "m = 60\n",
    "w1, w2 = 0.1, 0.3\n",
    "noise = 0.1\n",
    "\n",
    "angles = np.random.rand(m) * 3 * np.pi / 2 - 0.5\n",
    "X = np.empty((m, 3))\n",
    "X[:, 0] = np.cos(angles) + np.sin(angles)/2 + noise * np.random.randn(m) / 2\n",
    "X[:, 1] = np.sin(angles) * 0.7 + noise * np.random.randn(m) / 2\n",
    "X[:, 2] = X[:, 0] * w1 + X[:, 1] * w2 + noise * np.random.randn(m)"
   ]
  },
  {
   "cell_type": "markdown",
   "id": "299fd397",
   "metadata": {},
   "source": [
    "PCA"
   ]
  },
  {
   "cell_type": "code",
   "execution_count": 6,
   "id": "24d44c35",
   "metadata": {},
   "outputs": [],
   "source": [
    "#SVD\n",
    "#centere to mean\n",
    "X_centered = X - X.mean(axis = 0)\n",
    "U,s,Vt = np.linalg.svd(X_centered)\n",
    "pc1 = Vt.T[:,0]\n",
    "pc2 = Vt.T[:,1]"
   ]
  },
  {
   "cell_type": "markdown",
   "id": "3ea8d18b",
   "metadata": {},
   "source": [
    "projection"
   ]
  },
  {
   "cell_type": "code",
   "execution_count": 8,
   "id": "7376e3b0",
   "metadata": {},
   "outputs": [],
   "source": [
    "W2 = Vt.T[:,:2]\n",
    "X2D = X_centered.dot(W2)"
   ]
  },
  {
   "cell_type": "markdown",
   "id": "1eba2144",
   "metadata": {},
   "source": [
    "pca in sk learn"
   ]
  },
  {
   "cell_type": "code",
   "execution_count": 10,
   "id": "69982b47",
   "metadata": {},
   "outputs": [],
   "source": [
    "from sklearn.decomposition import PCA\n",
    "pca = PCA(n_components= 2)\n",
    "X2D = pca.fit_transform(X)"
   ]
  },
  {
   "cell_type": "code",
   "execution_count": 16,
   "id": "4028d200",
   "metadata": {},
   "outputs": [
    {
     "data": {
      "text/plain": [
       "array([[-0.93636116,  0.34027485],\n",
       "       [-0.29854881, -0.90119108],\n",
       "       [-0.18465208, -0.2684542 ]])"
      ]
     },
     "execution_count": 16,
     "metadata": {},
     "output_type": "execute_result"
    }
   ],
   "source": [
    "pcs = pca.components_.T\n",
    "pcs"
   ]
  },
  {
   "cell_type": "markdown",
   "id": "ca05f4f8",
   "metadata": {},
   "source": [
    "Explained Variance"
   ]
  },
  {
   "cell_type": "code",
   "execution_count": 17,
   "id": "bd1abdb2",
   "metadata": {},
   "outputs": [
    {
     "data": {
      "text/plain": [
       "array([0.84248607, 0.14631839])"
      ]
     },
     "execution_count": 17,
     "metadata": {},
     "output_type": "execute_result"
    }
   ],
   "source": [
    "pca.explained_variance_ratio_"
   ]
  },
  {
   "cell_type": "markdown",
   "id": "8a07f551",
   "metadata": {},
   "source": [
    "Selecting No of Dimensions"
   ]
  },
  {
   "cell_type": "code",
   "execution_count": 19,
   "id": "2134794d",
   "metadata": {},
   "outputs": [],
   "source": [
    "from sklearn.datasets import fetch_openml\n",
    "from sklearn.model_selection import train_test_split\n",
    "\n",
    "mnist = fetch_openml('mnist_784', version=1, as_frame=False)\n",
    "mnist.target = mnist.target.astype(np.uint8)\n",
    "\n",
    "X = mnist[\"data\"]\n",
    "y = mnist[\"target\"]\n",
    "\n",
    "X_train, X_test, y_train, y_test = train_test_split(X, y)\n"
   ]
  },
  {
   "cell_type": "code",
   "execution_count": 20,
   "id": "a97896b5",
   "metadata": {},
   "outputs": [],
   "source": [
    "# manual\n",
    "pca = PCA()\n",
    "pca.fit(X_train)\n",
    "cumsum = np.cumsum(pca.explained_variance_ratio_)\n",
    "d = np.argmax(cumsum >= 0.95) +1\n",
    "\n",
    "#sklearn\n",
    "pca = PCA(n_components= 0.95)\n",
    "X_reduced = pca.fit_transform(X_train)"
   ]
  },
  {
   "cell_type": "code",
   "execution_count": 26,
   "id": "f5933214",
   "metadata": {},
   "outputs": [
    {
     "data": {
      "image/png": "[encoded data removed]",
      "text/plain": [
       "<Figure size 432x288 with 1 Axes>"
      ]
     },
     "metadata": {
      "needs_background": "light"
     },
     "output_type": "display_data"
    }
   ],
   "source": [
    "#plot\n",
    "import matplotlib.pyplot as plt\n",
    "\n",
    "exp_var = pca.explained_variance_ratio_\n",
    "exp_var_cumsum = np.cumsum(exp_var)\n",
    "\n",
    "plt.figure(figsize =(6,4))\n",
    "plt.plot(exp_var_cumsum, linewidth = 3)\n",
    "plt.axis([0, 400, 0, 1])\n",
    "plt.xlabel(\"Dimensions\")\n",
    "plt.ylabel(\"Explained Variance\")\n",
    "plt.plot([d, d], [0, 0.95], \"k:\")\n",
    "plt.plot([0, d], [0.95, 0.95], \"k:\")\n",
    "plt.plot(d, 0.95, \"ko\")\n",
    "plt.annotate(\"Elbow\", xy=(65, 0.85), xytext=(70, 0.7),\n",
    "             arrowprops=dict(arrowstyle=\"->\"), fontsize=16)\n",
    "plt.grid(True)"
   ]
  },
  {
   "cell_type": "code",
   "execution_count": null,
   "id": "9c1f50cd",
   "metadata": {},
   "outputs": [],
   "source": []
  }
 ],
 "metadata": {
  "kernelspec": {
   "display_name": "Python 3 (ipykernel)",
   "language": "python",
   "name": "python3"
  },
  "language_info": {
   "codemirror_mode": {
    "name": "ipython",
    "version": 3
   },
   "file_extension": ".py",
   "mimetype": "text/x-python",
   "name": "python",
   "nbconvert_exporter": "python",
   "pygments_lexer": "ipython3",
   "version": "3.9.7"
  }
 },
 "nbformat": 4,
 "nbformat_minor": 5
}
